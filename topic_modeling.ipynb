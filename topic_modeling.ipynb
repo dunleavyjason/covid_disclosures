{
 "cells": [
  {
   "cell_type": "code",
   "execution_count": 141,
   "metadata": {},
   "outputs": [],
   "source": [
    "import pandas as pd\n",
    "import numpy as np\n",
    "import nltk\n",
    "import re\n",
    "from nltk.corpus import stopwords\n",
    "from sklearn.feature_extraction.text import CountVectorizer \n",
    "from sklearn.decomposition import NMF\n",
    "from sklearn.decomposition import LatentDirichletAllocation\n",
    "from nltk.stem.lancaster import LancasterStemmer"
   ]
  },
  {
   "cell_type": "code",
   "execution_count": 142,
   "metadata": {},
   "outputs": [
    {
     "data": {
      "text/html": [
       "<div>\n",
       "<style scoped>\n",
       "    .dataframe tbody tr th:only-of-type {\n",
       "        vertical-align: middle;\n",
       "    }\n",
       "\n",
       "    .dataframe tbody tr th {\n",
       "        vertical-align: top;\n",
       "    }\n",
       "\n",
       "    .dataframe thead th {\n",
       "        text-align: right;\n",
       "    }\n",
       "</style>\n",
       "<table border=\"1\" class=\"dataframe\">\n",
       "  <thead>\n",
       "    <tr style=\"text-align: right;\">\n",
       "      <th></th>\n",
       "      <th>ticker</th>\n",
       "      <th>text</th>\n",
       "    </tr>\n",
       "  </thead>\n",
       "  <tbody>\n",
       "    <tr>\n",
       "      <th>0</th>\n",
       "      <td>A</td>\n",
       "      <td>Both our domestic and international operation...</td>\n",
       "    </tr>\n",
       "    <tr>\n",
       "      <th>1</th>\n",
       "      <td>A</td>\n",
       "      <td>months ended April 30, 2020 is dependent in p...</td>\n",
       "    </tr>\n",
       "    <tr>\n",
       "      <th>2</th>\n",
       "      <td>A</td>\n",
       "      <td>, we did not identify any triggering events or...</td>\n",
       "    </tr>\n",
       "    <tr>\n",
       "      <th>3</th>\n",
       "      <td>A</td>\n",
       "      <td>of our common stock under this program. On Ma...</td>\n",
       "    </tr>\n",
       "    <tr>\n",
       "      <th>4</th>\n",
       "      <td>A</td>\n",
       "      <td>The following discussion should be read in con...</td>\n",
       "    </tr>\n",
       "    <tr>\n",
       "      <th>...</th>\n",
       "      <td>...</td>\n",
       "      <td>...</td>\n",
       "    </tr>\n",
       "    <tr>\n",
       "      <th>155511</th>\n",
       "      <td>ZTS</td>\n",
       "      <td>The novel coronavirus (COVID-19) was identifie...</td>\n",
       "    </tr>\n",
       "    <tr>\n",
       "      <th>155512</th>\n",
       "      <td>ZTS</td>\n",
       "      <td>The COVID-19 pandemic also may reduce demand f...</td>\n",
       "    </tr>\n",
       "    <tr>\n",
       "      <th>155513</th>\n",
       "      <td>ZTS</td>\n",
       "      <td>Moreover, measures imposed by governments and ...</td>\n",
       "    </tr>\n",
       "    <tr>\n",
       "      <th>155514</th>\n",
       "      <td>ZTS</td>\n",
       "      <td>The COVID-19 pandemic has also significantly i...</td>\n",
       "    </tr>\n",
       "    <tr>\n",
       "      <th>155515</th>\n",
       "      <td>ZTS</td>\n",
       "      <td>The ultimate magnitude of the COVID-19 pandemi...</td>\n",
       "    </tr>\n",
       "  </tbody>\n",
       "</table>\n",
       "<p>22793 rows × 2 columns</p>\n",
       "</div>"
      ],
      "text/plain": [
       "       ticker                                               text\n",
       "0           A   Both our domestic and international operation...\n",
       "1           A   months ended April 30, 2020 is dependent in p...\n",
       "2           A  , we did not identify any triggering events or...\n",
       "3           A   of our common stock under this program. On Ma...\n",
       "4           A  The following discussion should be read in con...\n",
       "...       ...                                                ...\n",
       "155511    ZTS  The novel coronavirus (COVID-19) was identifie...\n",
       "155512    ZTS  The COVID-19 pandemic also may reduce demand f...\n",
       "155513    ZTS  Moreover, measures imposed by governments and ...\n",
       "155514    ZTS  The COVID-19 pandemic has also significantly i...\n",
       "155515    ZTS  The ultimate magnitude of the COVID-19 pandemi...\n",
       "\n",
       "[22793 rows x 2 columns]"
      ]
     },
     "execution_count": 142,
     "metadata": {},
     "output_type": "execute_result"
    }
   ],
   "source": [
    "df = pd.read_pickle(\"text_df_v2.pkl\")\n",
    "df"
   ]
  },
  {
   "cell_type": "code",
   "execution_count": 143,
   "metadata": {},
   "outputs": [],
   "source": [
    "english_stop_words = stopwords.words('english')"
   ]
  },
  {
   "cell_type": "code",
   "execution_count": 144,
   "metadata": {},
   "outputs": [],
   "source": [
    "additional_stop_words = [\"2020\", \"2021\", \"2019\", \"covid\", \"pandemic\", \"novel\", \"coronavirus\", \"global\", \n",
    "                        \"million\", \"thousand\", \"hundred\", \"billion\", \"quarter\", \"year\", \"'19'\",\n",
    "                        \"'20\", \"19\", \"january\", \"february\", \"march\", \"april\", \"may\", \"june\", \n",
    "                        \"july\", \"august\", \"september\", \"october\", \"november\", \"december\",\n",
    "                        \"jan\", \"feb\", \"mar\", \"apr\", \"jun\", \"jul\", \"aug\", \"sep\", \"oct\", \"nov\", \n",
    "                         \"dec\"]"
   ]
  },
  {
   "cell_type": "code",
   "execution_count": 145,
   "metadata": {},
   "outputs": [],
   "source": [
    "all_stop_words = english_stop_words + additional_stop_words"
   ]
  },
  {
   "cell_type": "code",
   "execution_count": 146,
   "metadata": {},
   "outputs": [],
   "source": [
    "def remove_numbers(text):\n",
    "    return re.sub(r'\\d+','', text)"
   ]
  },
  {
   "cell_type": "code",
   "execution_count": 147,
   "metadata": {},
   "outputs": [
    {
     "data": {
      "text/html": [
       "<div>\n",
       "<style scoped>\n",
       "    .dataframe tbody tr th:only-of-type {\n",
       "        vertical-align: middle;\n",
       "    }\n",
       "\n",
       "    .dataframe tbody tr th {\n",
       "        vertical-align: top;\n",
       "    }\n",
       "\n",
       "    .dataframe thead th {\n",
       "        text-align: right;\n",
       "    }\n",
       "</style>\n",
       "<table border=\"1\" class=\"dataframe\">\n",
       "  <thead>\n",
       "    <tr style=\"text-align: right;\">\n",
       "      <th></th>\n",
       "      <th>ticker</th>\n",
       "      <th>text</th>\n",
       "    </tr>\n",
       "  </thead>\n",
       "  <tbody>\n",
       "    <tr>\n",
       "      <th>0</th>\n",
       "      <td>A</td>\n",
       "      <td>Both our domestic and international operation...</td>\n",
       "    </tr>\n",
       "    <tr>\n",
       "      <th>1</th>\n",
       "      <td>A</td>\n",
       "      <td>months ended April ,  is dependent in part on...</td>\n",
       "    </tr>\n",
       "    <tr>\n",
       "      <th>2</th>\n",
       "      <td>A</td>\n",
       "      <td>, we did not identify any triggering events or...</td>\n",
       "    </tr>\n",
       "    <tr>\n",
       "      <th>3</th>\n",
       "      <td>A</td>\n",
       "      <td>of our common stock under this program. On Ma...</td>\n",
       "    </tr>\n",
       "    <tr>\n",
       "      <th>4</th>\n",
       "      <td>A</td>\n",
       "      <td>The following discussion should be read in con...</td>\n",
       "    </tr>\n",
       "    <tr>\n",
       "      <th>...</th>\n",
       "      <td>...</td>\n",
       "      <td>...</td>\n",
       "    </tr>\n",
       "    <tr>\n",
       "      <th>155511</th>\n",
       "      <td>ZTS</td>\n",
       "      <td>The novel coronavirus (COVID-) was identified ...</td>\n",
       "    </tr>\n",
       "    <tr>\n",
       "      <th>155512</th>\n",
       "      <td>ZTS</td>\n",
       "      <td>The COVID- pandemic also may reduce demand for...</td>\n",
       "    </tr>\n",
       "    <tr>\n",
       "      <th>155513</th>\n",
       "      <td>ZTS</td>\n",
       "      <td>Moreover, measures imposed by governments and ...</td>\n",
       "    </tr>\n",
       "    <tr>\n",
       "      <th>155514</th>\n",
       "      <td>ZTS</td>\n",
       "      <td>The COVID- pandemic has also significantly inc...</td>\n",
       "    </tr>\n",
       "    <tr>\n",
       "      <th>155515</th>\n",
       "      <td>ZTS</td>\n",
       "      <td>The ultimate magnitude of the COVID- pandemic,...</td>\n",
       "    </tr>\n",
       "  </tbody>\n",
       "</table>\n",
       "<p>22793 rows × 2 columns</p>\n",
       "</div>"
      ],
      "text/plain": [
       "       ticker                                               text\n",
       "0           A   Both our domestic and international operation...\n",
       "1           A   months ended April ,  is dependent in part on...\n",
       "2           A  , we did not identify any triggering events or...\n",
       "3           A   of our common stock under this program. On Ma...\n",
       "4           A  The following discussion should be read in con...\n",
       "...       ...                                                ...\n",
       "155511    ZTS  The novel coronavirus (COVID-) was identified ...\n",
       "155512    ZTS  The COVID- pandemic also may reduce demand for...\n",
       "155513    ZTS  Moreover, measures imposed by governments and ...\n",
       "155514    ZTS  The COVID- pandemic has also significantly inc...\n",
       "155515    ZTS  The ultimate magnitude of the COVID- pandemic,...\n",
       "\n",
       "[22793 rows x 2 columns]"
      ]
     },
     "execution_count": 147,
     "metadata": {},
     "output_type": "execute_result"
    }
   ],
   "source": [
    "df_clean = df.copy()\n",
    "df_clean[\"text\"] = df_clean.text.apply(remove_numbers)\n",
    "df_clean"
   ]
  },
  {
   "cell_type": "code",
   "execution_count": 148,
   "metadata": {},
   "outputs": [
    {
     "name": "stderr",
     "output_type": "stream",
     "text": [
      "/Users/dunleavyjason/opt/anaconda3/lib/python3.8/site-packages/sklearn/feature_extraction/text.py:383: UserWarning: Your stop_words may be inconsistent with your preprocessing. Tokenizing the stop words generated tokens ['20'] not in stop_words.\n",
      "  warnings.warn('Your stop_words may be inconsistent with '\n"
     ]
    },
    {
     "data": {
      "text/plain": [
       "(22793, 50598)"
      ]
     },
     "execution_count": 148,
     "metadata": {},
     "output_type": "execute_result"
    }
   ],
   "source": [
    "vectorizer = CountVectorizer(stop_words = all_stop_words, min_df = 5, ngram_range=(1,2))\n",
    "\n",
    "doc_word = vectorizer.fit_transform(df_clean.text)\n",
    "doc_word.shape"
   ]
  },
  {
   "cell_type": "code",
   "execution_count": 149,
   "metadata": {},
   "outputs": [
    {
     "data": {
      "text/plain": [
       "(22793, 8)"
      ]
     },
     "execution_count": 149,
     "metadata": {},
     "output_type": "execute_result"
    }
   ],
   "source": [
    "nmf_model = NMF(8)\n",
    "doc_topic = nmf_model.fit_transform(doc_word)\n",
    "doc_topic.shape"
   ]
  },
  {
   "cell_type": "code",
   "execution_count": 150,
   "metadata": {},
   "outputs": [
    {
     "data": {
      "text/plain": [
       "(8, 50598)"
      ]
     },
     "execution_count": 150,
     "metadata": {},
     "output_type": "execute_result"
    }
   ],
   "source": [
    "topic_word = nmf_model.components_\n",
    "topic_word.shape"
   ]
  },
  {
   "cell_type": "code",
   "execution_count": 151,
   "metadata": {
    "scrolled": true
   },
   "outputs": [
    {
     "data": {
      "text/plain": [
       "[['business',\n",
       "  'including',\n",
       "  'could',\n",
       "  'products',\n",
       "  'customers',\n",
       "  'result',\n",
       "  'ability',\n",
       "  'employees',\n",
       "  'operations',\n",
       "  'demand',\n",
       "  'services',\n",
       "  'health',\n",
       "  'supply',\n",
       "  'restrictions'],\n",
       " ['statements',\n",
       "  'forward',\n",
       "  'looking',\n",
       "  'forward looking',\n",
       "  'looking statements',\n",
       "  'risks',\n",
       "  'future',\n",
       "  'results',\n",
       "  'factors',\n",
       "  'including',\n",
       "  'report',\n",
       "  'uncertainties',\n",
       "  'risks uncertainties',\n",
       "  'changes'],\n",
       " ['sales',\n",
       "  'due',\n",
       "  'net',\n",
       "  'primarily',\n",
       "  'increased',\n",
       "  'increase',\n",
       "  'lower',\n",
       "  'first',\n",
       "  'offset',\n",
       "  'compared',\n",
       "  'revenue',\n",
       "  'related',\n",
       "  'months',\n",
       "  'higher'],\n",
       " ['company',\n",
       "  'impact company',\n",
       "  'related',\n",
       "  'company business',\n",
       "  'financial',\n",
       "  'certain',\n",
       "  'company ability',\n",
       "  'share',\n",
       "  'assets',\n",
       "  'tax',\n",
       "  'future',\n",
       "  'expects',\n",
       "  'act',\n",
       "  'time'],\n",
       " ['financial',\n",
       "  'operations',\n",
       "  'results',\n",
       "  'results operations',\n",
       "  'business',\n",
       "  'condition',\n",
       "  'financial condition',\n",
       "  'could',\n",
       "  'adversely',\n",
       "  'affect',\n",
       "  'operations financial',\n",
       "  'material',\n",
       "  'adverse',\n",
       "  'condition results'],\n",
       " ['credit',\n",
       "  'cash',\n",
       "  'capital',\n",
       "  'liquidity',\n",
       "  'debt',\n",
       "  'markets',\n",
       "  'financial',\n",
       "  'term',\n",
       "  'market',\n",
       "  'facility',\n",
       "  'economic',\n",
       "  'ability',\n",
       "  'conditions',\n",
       "  'financing'],\n",
       " ['value',\n",
       "  'impairment',\n",
       "  'reporting',\n",
       "  'fair',\n",
       "  'goodwill',\n",
       "  'fair value',\n",
       "  'assets',\n",
       "  'carrying',\n",
       "  'unit',\n",
       "  'units',\n",
       "  'reporting units',\n",
       "  'market',\n",
       "  'estimates',\n",
       "  'result'],\n",
       " ['impact',\n",
       "  'economic',\n",
       "  'including',\n",
       "  'duration',\n",
       "  'business',\n",
       "  'extent',\n",
       "  'future',\n",
       "  'actions',\n",
       "  'spread',\n",
       "  'uncertain',\n",
       "  'continue',\n",
       "  'outbreak',\n",
       "  'conditions',\n",
       "  'severity']]"
      ]
     },
     "execution_count": 151,
     "metadata": {},
     "output_type": "execute_result"
    }
   ],
   "source": [
    "words = vectorizer.get_feature_names()\n",
    "t = nmf_model.components_.argsort(axis=1)[:,-1:-15:-1]\n",
    "topic_words = [[words[e] for e in l] for l in t]\n",
    "topic_words"
   ]
  },
  {
   "cell_type": "code",
   "execution_count": null,
   "metadata": {},
   "outputs": [],
   "source": []
  }
 ],
 "metadata": {
  "kernelspec": {
   "display_name": "Python 3",
   "language": "python",
   "name": "python3"
  },
  "language_info": {
   "codemirror_mode": {
    "name": "ipython",
    "version": 3
   },
   "file_extension": ".py",
   "mimetype": "text/x-python",
   "name": "python",
   "nbconvert_exporter": "python",
   "pygments_lexer": "ipython3",
   "version": "3.8.6"
  }
 },
 "nbformat": 4,
 "nbformat_minor": 4
}
